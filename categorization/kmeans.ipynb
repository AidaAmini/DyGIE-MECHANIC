{
 "cells": [
  {
   "cell_type": "code",
   "execution_count": 1,
   "id": "6c8ec880",
   "metadata": {},
   "outputs": [],
   "source": [
    "import torch\n",
    "from transformers import BertTokenizer, BertModel\n",
    "from sklearn.cluster import KMeans\n",
    "from joblib import dump, load\n",
    "\n",
    "import sys\n"
   ]
  },
  {
   "cell_type": "code",
   "execution_count": 2,
   "id": "d5e42b4f",
   "metadata": {},
   "outputs": [
    {
     "name": "stderr",
     "output_type": "stream",
     "text": [
      "Some weights of the model checkpoint at allenai/scibert_scivocab_uncased were not used when initializing BertModel: ['cls.predictions.decoder.bias', 'cls.seq_relationship.weight', 'cls.predictions.transform.dense.bias', 'cls.predictions.transform.dense.weight', 'cls.seq_relationship.bias', 'cls.predictions.decoder.weight', 'cls.predictions.bias', 'cls.predictions.transform.LayerNorm.weight', 'cls.predictions.transform.LayerNorm.bias']\n",
      "- This IS expected if you are initializing BertModel from the checkpoint of a model trained on another task or with another architecture (e.g. initializing a BertForSequenceClassification model from a BertForPreTraining model).\n",
      "- This IS NOT expected if you are initializing BertModel from the checkpoint of a model that you expect to be exactly identical (initializing a BertForSequenceClassification model from a BertForSequenceClassification model).\n"
     ]
    }
   ],
   "source": [
    "\n",
    "  # prediction path\n",
    "INPUT_SPAN_FILE_PATH = \"/data/edan/for_edan/cofie_spans.txt\"\n",
    "\n",
    "def embed_text(text, model):\n",
    "    input_ids = torch.tensor(tokenizer.encode(text)).unsqueeze(0)  # Batch size 1\n",
    "    input_ids = input_ids.to('cuda:1')\n",
    "    outputs = model(input_ids)\n",
    "    last_hidden_states = outputs[0]  # The last hidden-state is the first element of the output tuple\n",
    "    return last_hidden_states \n",
    "\n",
    "model_version = 'allenai/scibert_scivocab_uncased'\n",
    "do_lower_case = True\n",
    "model = BertModel.from_pretrained(model_version)\n",
    "model.to('cuda:1')\n",
    "tokenizer = BertTokenizer.from_pretrained(model_version, do_lower_case=do_lower_case)\n",
    "input_file = open(INPUT_SPAN_FILE_PATH)\n",
    "\n",
    "def get_words(input_file, model):\n",
    "  word_list = []\n",
    "  word_em_list = []\n",
    "  count = 0\n",
    "  for line in input_file:\n",
    "    if count% 10000 == 0:\n",
    "      print(count)\n",
    "    # if count == 100000:\n",
    "    #   break\n",
    "    count += 1\n",
    "    if line[:-1] not in word_list:\n",
    "      word_list.append(line[:-1])\n",
    "      word_em_list.append(embed_text(word_list[-1], model).mean(1).detach().cpu().numpy()[0])\n",
    "  return word_list, word_em_list\n",
    "\n",
    "word_list, word_em_list = get_words(input_file, model)"
   ]
  },
  {
   "cell_type": "code",
   "execution_count": 30,
   "id": "c385cefb",
   "metadata": {},
   "outputs": [
    {
     "data": {
      "text/plain": [
       "['wordemlist.joblib']"
      ]
     },
     "execution_count": 30,
     "metadata": {},
     "output_type": "execute_result"
    }
   ],
   "source": [
    "dump(word_list, \"wordlist.joblib\")\n",
    "dump(word_em_list, \"wordemlist.joblib\")"
   ]
  },
  {
   "cell_type": "code",
   "execution_count": 12,
   "id": "724a1e2d",
   "metadata": {},
   "outputs": [],
   "source": [
    "word_list = load(\"scripts/revised_wordlist.joblib\")\n",
    "word_em_list = load(\"scripts/revised_wordemlist.joblib\")"
   ]
  },
  {
   "cell_type": "code",
   "execution_count": 14,
   "id": "45a71624",
   "metadata": {},
   "outputs": [
    {
     "data": {
      "text/plain": [
       "'long term imaging follow'"
      ]
     },
     "execution_count": 14,
     "metadata": {},
     "output_type": "execute_result"
    }
   ],
   "source": [
    "word_list[1]"
   ]
  },
  {
   "cell_type": "code",
   "execution_count": 7,
   "id": "0afe4af0",
   "metadata": {},
   "outputs": [
    {
     "name": "stdout",
     "output_type": "stream",
     "text": [
      "3\n"
     ]
    }
   ],
   "source": [
    "kmeans = load(\"training_kmeans.joblib\")\n",
    "predictions = kmeans.predict(word_em_list)"
   ]
  },
  {
   "cell_type": "code",
   "execution_count": 16,
   "id": "7165e0ab",
   "metadata": {},
   "outputs": [],
   "source": [
    "output_file = open(\"k_means_clusters_predict.tsv\", \"w\")\n",
    "for word, prediction in zip(word_list, predictions):\n",
    "    output_file.write(word + \"\\t\" + str(prediction) + \"\\n\")"
   ]
  },
  {
   "cell_type": "code",
   "execution_count": 13,
   "id": "8bbed477",
   "metadata": {},
   "outputs": [
    {
     "name": "stdout",
     "output_type": "stream",
     "text": [
      "1248011\n",
      "1248011\n",
      "1248011\n"
     ]
    }
   ],
   "source": []
  }
 ],
 "metadata": {
  "kernelspec": {
   "display_name": "Python 3",
   "language": "python",
   "name": "python3"
  },
  "language_info": {
   "codemirror_mode": {
    "name": "ipython",
    "version": 3
   },
   "file_extension": ".py",
   "mimetype": "text/x-python",
   "name": "python",
   "nbconvert_exporter": "python",
   "pygments_lexer": "ipython3",
   "version": "3.9.1"
  }
 },
 "nbformat": 4,
 "nbformat_minor": 5
}
